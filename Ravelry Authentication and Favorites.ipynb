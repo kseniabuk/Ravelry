{
 "cells": [
  {
   "cell_type": "code",
   "execution_count": 1,
   "id": "1742bafb",
   "metadata": {},
   "outputs": [
    {
     "name": "stdout",
     "output_type": "stream",
     "text": [
      "https://api.ravelry.com/people/KseniaBuk/favorites/list.json\n"
     ]
    }
   ],
   "source": [
    "import requests\n",
    "import config\n",
    "import json\n",
    "import pandas as pd\n",
    "#from requests.auth import HTTPBasicAuth\n",
    "\n",
    "username = 'KseniaBuk'\n",
    "api_username = config.username\n",
    "password = config.password \n",
    "\n",
    "url = f'https://api.ravelry.com/people/{username}/favorites/list.json'\n",
    "print(url)"
   ]
  },
  {
   "cell_type": "code",
   "execution_count": 2,
   "id": "a825bac1",
   "metadata": {},
   "outputs": [],
   "source": [
    "payload = {\n",
    "    'page': str(1),\n",
    "    'page_size': 25\n",
    "}\n",
    "response = requests.get(url, params=payload, auth=(api_username, password))"
   ]
  },
  {
   "cell_type": "code",
   "execution_count": 24,
   "id": "4cc5daac",
   "metadata": {},
   "outputs": [],
   "source": [
    "if response.status_code == 200:\n",
    "    data = response.json()\n",
    "\n",
    "pages = data['paginator']['page_count']\n",
    "favorites = data.get('favorites', [])\n",
    "favorites_trunc = []\n",
    "\n",
    "for f in favorites:\n",
    "    fn = {\n",
    "        'name' : f['favorited']['name'], \n",
    "        'created_at' : f['created_at'], \n",
    "        'id' : f['id'],\n",
    "        'page' : data['paginator']['page_count']\n",
    "    }\n",
    "    favorites_trunc.append(fn)"
   ]
  },
  {
   "cell_type": "code",
   "execution_count": 25,
   "id": "8f8e338e",
   "metadata": {},
   "outputs": [],
   "source": [
    "for i in range(2, pages): # replace with paginator number later\n",
    "    payload = {\n",
    "        'page': str(i),\n",
    "        'page_size': 25\n",
    "    }\n",
    "    response = requests.get(url, params=payload, auth=(api_username, password))\n",
    "    data = response.json()\n",
    "    favorites = data.get('favorites', [])\n",
    "    for f in favorites:\n",
    "        fn = {\n",
    "            'name' : f['favorited']['name'], \n",
    "            'created_at' : f['created_at'], \n",
    "            'id' : f['favorited']['id'],\n",
    "            'page' : data['paginator']['page_count']\n",
    "        }\n",
    "        favorites_trunc.append(fn)"
   ]
  },
  {
   "cell_type": "code",
   "execution_count": 26,
   "id": "39f26088",
   "metadata": {
    "scrolled": true
   },
   "outputs": [
    {
     "data": {
      "text/html": [
       "<div>\n",
       "<style scoped>\n",
       "    .dataframe tbody tr th:only-of-type {\n",
       "        vertical-align: middle;\n",
       "    }\n",
       "\n",
       "    .dataframe tbody tr th {\n",
       "        vertical-align: top;\n",
       "    }\n",
       "\n",
       "    .dataframe thead th {\n",
       "        text-align: right;\n",
       "    }\n",
       "</style>\n",
       "<table border=\"1\" class=\"dataframe\">\n",
       "  <thead>\n",
       "    <tr style=\"text-align: right;\">\n",
       "      <th></th>\n",
       "      <th>name</th>\n",
       "      <th>created_at</th>\n",
       "      <th>id</th>\n",
       "      <th>page</th>\n",
       "    </tr>\n",
       "  </thead>\n",
       "  <tbody>\n",
       "    <tr>\n",
       "      <th>25</th>\n",
       "      <td>Hällevik - skirt</td>\n",
       "      <td>2025/06/21 19:35:09 -0400</td>\n",
       "      <td>7319055</td>\n",
       "      <td>10</td>\n",
       "    </tr>\n",
       "    <tr>\n",
       "      <th>26</th>\n",
       "      <td>Hällevik - blouse</td>\n",
       "      <td>2025/06/21 19:34:58 -0400</td>\n",
       "      <td>7319005</td>\n",
       "      <td>10</td>\n",
       "    </tr>\n",
       "    <tr>\n",
       "      <th>27</th>\n",
       "      <td>Noosa One Shoulder Top</td>\n",
       "      <td>2025/06/20 10:18:48 -0400</td>\n",
       "      <td>7440103</td>\n",
       "      <td>10</td>\n",
       "    </tr>\n",
       "    <tr>\n",
       "      <th>28</th>\n",
       "      <td>Dust Devils</td>\n",
       "      <td>2025/06/19 15:38:22 -0400</td>\n",
       "      <td>1117620</td>\n",
       "      <td>10</td>\n",
       "    </tr>\n",
       "    <tr>\n",
       "      <th>29</th>\n",
       "      <td>Straight Ahead Mittens</td>\n",
       "      <td>2025/06/19 15:31:33 -0400</td>\n",
       "      <td>7306830</td>\n",
       "      <td>10</td>\n",
       "    </tr>\n",
       "    <tr>\n",
       "      <th>30</th>\n",
       "      <td>Scottish Highlands</td>\n",
       "      <td>2025/06/17 14:38:00 -0400</td>\n",
       "      <td>750053</td>\n",
       "      <td>10</td>\n",
       "    </tr>\n",
       "    <tr>\n",
       "      <th>31</th>\n",
       "      <td>Unicorn Tapestry Sweater</td>\n",
       "      <td>2025/06/09 18:22:10 -0400</td>\n",
       "      <td>7402769</td>\n",
       "      <td>10</td>\n",
       "    </tr>\n",
       "    <tr>\n",
       "      <th>32</th>\n",
       "      <td>Milano Sweater</td>\n",
       "      <td>2025/06/06 01:09:59 -0400</td>\n",
       "      <td>7412303</td>\n",
       "      <td>10</td>\n",
       "    </tr>\n",
       "    <tr>\n",
       "      <th>33</th>\n",
       "      <td>EASYPEASY Scarf</td>\n",
       "      <td>2025/06/04 12:43:53 -0400</td>\n",
       "      <td>1286862</td>\n",
       "      <td>10</td>\n",
       "    </tr>\n",
       "    <tr>\n",
       "      <th>34</th>\n",
       "      <td>Easy Triangle</td>\n",
       "      <td>2025/06/03 22:11:29 -0400</td>\n",
       "      <td>1289100</td>\n",
       "      <td>10</td>\n",
       "    </tr>\n",
       "  </tbody>\n",
       "</table>\n",
       "</div>"
      ],
      "text/plain": [
       "                        name                 created_at       id  page\n",
       "25          Hällevik - skirt  2025/06/21 19:35:09 -0400  7319055    10\n",
       "26         Hällevik - blouse  2025/06/21 19:34:58 -0400  7319005    10\n",
       "27    Noosa One Shoulder Top  2025/06/20 10:18:48 -0400  7440103    10\n",
       "28               Dust Devils  2025/06/19 15:38:22 -0400  1117620    10\n",
       "29    Straight Ahead Mittens  2025/06/19 15:31:33 -0400  7306830    10\n",
       "30        Scottish Highlands  2025/06/17 14:38:00 -0400   750053    10\n",
       "31  Unicorn Tapestry Sweater  2025/06/09 18:22:10 -0400  7402769    10\n",
       "32            Milano Sweater  2025/06/06 01:09:59 -0400  7412303    10\n",
       "33           EASYPEASY Scarf  2025/06/04 12:43:53 -0400  1286862    10\n",
       "34             Easy Triangle  2025/06/03 22:11:29 -0400  1289100    10"
      ]
     },
     "execution_count": 26,
     "metadata": {},
     "output_type": "execute_result"
    }
   ],
   "source": [
    "favorites_df = pd.json_normalize(favorites_trunc)\n",
    "favorites_df.sort_values('created_at', ascending = False).head(10)"
   ]
  },
  {
   "cell_type": "code",
   "execution_count": null,
   "id": "08ba1eb0",
   "metadata": {},
   "outputs": [],
   "source": []
  }
 ],
 "metadata": {
  "kernelspec": {
   "display_name": "Python 3 (ipykernel)",
   "language": "python",
   "name": "python3"
  },
  "language_info": {
   "codemirror_mode": {
    "name": "ipython",
    "version": 3
   },
   "file_extension": ".py",
   "mimetype": "text/x-python",
   "name": "python",
   "nbconvert_exporter": "python",
   "pygments_lexer": "ipython3",
   "version": "3.10.0"
  }
 },
 "nbformat": 4,
 "nbformat_minor": 5
}
